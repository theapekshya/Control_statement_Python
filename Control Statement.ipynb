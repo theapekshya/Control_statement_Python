{
 "cells": [
  {
   "cell_type": "code",
   "execution_count": 1,
   "id": "2e768cc2",
   "metadata": {},
   "outputs": [],
   "source": [
    "# control statement (break continue pass)"
   ]
  },
  {
   "cell_type": "code",
   "execution_count": 2,
   "id": "48372c47",
   "metadata": {},
   "outputs": [
    {
     "name": "stdout",
     "output_type": "stream",
     "text": [
      "0\n",
      "1\n",
      "2\n",
      "3\n",
      "4\n"
     ]
    }
   ],
   "source": [
    "# break\n",
    "\n",
    "for i in range(10):\n",
    "    if i==5:\n",
    "        break     # used to stop execute after specific command\n",
    "    print(i)"
   ]
  },
  {
   "cell_type": "code",
   "execution_count": 3,
   "id": "9130ddfe",
   "metadata": {},
   "outputs": [
    {
     "name": "stdout",
     "output_type": "stream",
     "text": [
      "0\n",
      "1\n",
      "2\n",
      "3\n",
      "4\n",
      "6\n",
      "7\n",
      "8\n",
      "9\n"
     ]
    }
   ],
   "source": [
    "# continue\n",
    "\n",
    "for i in range(10):\n",
    "    if i==5:\n",
    "        continue     # used to continue execute after specific command\n",
    "    print(i)"
   ]
  },
  {
   "cell_type": "code",
   "execution_count": 4,
   "id": "e63a37f3",
   "metadata": {},
   "outputs": [
    {
     "name": "stdout",
     "output_type": "stream",
     "text": [
      "Hello world"
     ]
    }
   ],
   "source": [
    "a = 'Hello world. hey'\n",
    "for i in a:\n",
    "    if i=='.':\n",
    "        break\n",
    "    print(i,end='')"
   ]
  },
  {
   "cell_type": "code",
   "execution_count": 5,
   "id": "a5559734",
   "metadata": {},
   "outputs": [
    {
     "name": "stdout",
     "output_type": "stream",
     "text": [
      "Hello world hey"
     ]
    }
   ],
   "source": [
    "a = 'Hello world. hey'\n",
    "for i in a:\n",
    "    if i=='.':\n",
    "        continue\n",
    "    print(i,end='')"
   ]
  },
  {
   "cell_type": "code",
   "execution_count": 6,
   "id": "6a211629",
   "metadata": {},
   "outputs": [],
   "source": [
    "# pass statement ( skip line and do nothing)\n",
    "\n",
    "a = 3\n",
    "if a>10:\n",
    "    pass"
   ]
  },
  {
   "cell_type": "code",
   "execution_count": 7,
   "id": "5b671365",
   "metadata": {},
   "outputs": [],
   "source": [
    "for i in range(5):\n",
    "    pass"
   ]
  },
  {
   "cell_type": "code",
   "execution_count": 8,
   "id": "8a9a268e",
   "metadata": {},
   "outputs": [],
   "source": [
    "# control statement in while loo"
   ]
  },
  {
   "cell_type": "code",
   "execution_count": 9,
   "id": "904de590",
   "metadata": {},
   "outputs": [
    {
     "name": "stdout",
     "output_type": "stream",
     "text": [
      "0\n",
      "1\n",
      "2\n"
     ]
    }
   ],
   "source": [
    "a = 0\n",
    "while a<5:\n",
    "    if a==3:\n",
    "        break\n",
    "    print(a)\n",
    "    a=a+1"
   ]
  },
  {
   "cell_type": "code",
   "execution_count": 10,
   "id": "bb948d2d",
   "metadata": {},
   "outputs": [],
   "source": [
    "# wap to detect if the given no from user is prime or composite\n",
    "# prime number = 2,3,5,7,11\n",
    "#composite number = 4,6,8,9,10 (not prime)"
   ]
  },
  {
   "cell_type": "code",
   "execution_count": 12,
   "id": "4d1fc227",
   "metadata": {},
   "outputs": [
    {
     "name": "stdout",
     "output_type": "stream",
     "text": [
      "Enter n =2\n",
      "Prime number\n"
     ]
    }
   ],
   "source": [
    "n=int(input('Enter n ='))\n",
    "if n==1:\n",
    "    print('Neither prime nor composite')\n",
    "if n==2:\n",
    "    print('Prime number')\n",
    "    \n",
    "for i in range(2,n):\n",
    "    if n%i==0:\n",
    "        print('composite number')\n",
    "        break\n",
    "    else:\n",
    "        print(n,'is prime number')"
   ]
  },
  {
   "cell_type": "code",
   "execution_count": null,
   "id": "49effa3e",
   "metadata": {},
   "outputs": [],
   "source": []
  }
 ],
 "metadata": {
  "kernelspec": {
   "display_name": "Python 3 (ipykernel)",
   "language": "python",
   "name": "python3"
  },
  "language_info": {
   "codemirror_mode": {
    "name": "ipython",
    "version": 3
   },
   "file_extension": ".py",
   "mimetype": "text/x-python",
   "name": "python",
   "nbconvert_exporter": "python",
   "pygments_lexer": "ipython3",
   "version": "3.10.9"
  }
 },
 "nbformat": 4,
 "nbformat_minor": 5
}
